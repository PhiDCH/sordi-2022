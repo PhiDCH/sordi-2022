{
 "cells": [
  {
   "cell_type": "code",
   "execution_count": null,
   "metadata": {},
   "outputs": [],
   "source": []
  }
 ],
 "metadata": {
  "kernelspec": {
   "display_name": "Python 3.6.13 ('py36')",
   "language": "python",
   "name": "python3"
  },
  "language_info": {
   "name": "python",
   "version": "3.6.13"
  },
  "orig_nbformat": 4,
  "vscode": {
   "interpreter": {
    "hash": "45b4338f51010b68375146015d554340e963b0666cce8a6b92b3f9db6b9e1388"
   }
  }
 },
 "nbformat": 4,
 "nbformat_minor": 2
}
